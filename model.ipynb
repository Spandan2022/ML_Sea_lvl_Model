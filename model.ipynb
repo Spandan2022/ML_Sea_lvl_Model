{
 "cells": [
  {
   "cell_type": "code",
   "execution_count": 4,
   "metadata": {},
   "outputs": [],
   "source": [
    "import netCDF4\n",
    "import os\n",
    "import numpy as np\n",
    "import pandas as pd\n",
    "import matplotlib.pyplot as plt\n",
    "import numpy.ma as ma\n"
   ]
  },
  {
   "cell_type": "code",
   "execution_count": 35,
   "metadata": {},
   "outputs": [],
   "source": [
    "MIN_YEAR=1993\n",
    "MIN_DAY=1\n",
    "MIN_MONTH=1\n",
    "\n",
    "MAX_YEAR=2013\n",
    "MAX_DAY=31\n",
    "MAX_MONTH=12"
   ]
  },
  {
   "cell_type": "code",
   "execution_count": 5,
   "metadata": {},
   "outputs": [],
   "source": [
    "dataset = netCDF4.Dataset('dataset/Copernicus_ENA_Satelite_Maps_Training_Data/dt_ena_19930101_vDT2021.nc', mode='r')"
   ]
  },
  {
   "cell_type": "code",
   "execution_count": 12,
   "metadata": {},
   "outputs": [],
   "source": [
    "latitude = dataset.variables['latitude'][:]\n",
    "longitude = dataset.variables['longitude'][:]"
   ]
  },
  {
   "cell_type": "code",
   "execution_count": 14,
   "metadata": {},
   "outputs": [],
   "source": [
    "latitude = np.linspace(25.125, 49.875, 100)  # 100 latitude points\n",
    "longitude = np.linspace(-99.875, -60.125, 160)  # 160 longitude points"
   ]
  },
  {
   "cell_type": "code",
   "execution_count": 46,
   "metadata": {},
   "outputs": [],
   "source": [
    "lon_grid, lat_grid = np.meshgrid(longitude, latitude)  # Shape (100, 160)\n",
    "lon_flat = lon_grid.ravel()  # Flattened longitude, shape (100 * 160,)\n",
    "lat_flat = lat_grid.ravel()  # Flattened latitude, shape (100 * 160,)\n",
    "lon_flat = lon_flat.astype(np.float32)\n",
    "lat_flat = lat_flat.astype(np.float32)"
   ]
  },
  {
   "cell_type": "code",
   "execution_count": 18,
   "metadata": {},
   "outputs": [],
   "source": [
    "attention_mask = ma.getmask(dataset.variables['sla'][0])"
   ]
  },
  {
   "cell_type": "code",
   "execution_count": 19,
   "metadata": {},
   "outputs": [],
   "source": [
    "attention_mask = (~attention_mask).astype(int)"
   ]
  },
  {
   "cell_type": "code",
   "execution_count": 20,
   "metadata": {},
   "outputs": [
    {
     "data": {
      "text/plain": [
       "array([[0, 0, 0, ..., 1, 1, 1],\n",
       "       [0, 0, 0, ..., 1, 1, 1],\n",
       "       [0, 0, 0, ..., 1, 1, 1],\n",
       "       ...,\n",
       "       [0, 0, 0, ..., 1, 1, 1],\n",
       "       [0, 0, 0, ..., 1, 1, 1],\n",
       "       [0, 0, 0, ..., 1, 1, 1]])"
      ]
     },
     "execution_count": 20,
     "metadata": {},
     "output_type": "execute_result"
    }
   ],
   "source": [
    "attention_mask"
   ]
  },
  {
   "cell_type": "code",
   "execution_count": 21,
   "metadata": {},
   "outputs": [
    {
     "data": {
      "text/plain": [
       "160"
      ]
     },
     "execution_count": 21,
     "metadata": {},
     "output_type": "execute_result"
    }
   ],
   "source": [
    "len(dataset.variables['longitude'][:])"
   ]
  },
  {
   "cell_type": "code",
   "execution_count": 22,
   "metadata": {},
   "outputs": [
    {
     "name": "stdout",
     "output_type": "stream",
     "text": [
      "[[-- -- -- ... -0.0594 -0.062400000000000004 -0.066]\n",
      " [-- -- -- ... -0.051300000000000005 -0.0579 -0.0623]\n",
      " [-- -- -- ... -0.0506 -0.057800000000000004 -0.0625]\n",
      " ...\n",
      " [-- -- -- ... -0.007200000000000001 -0.015000000000000001\n",
      "  -0.023100000000000002]\n",
      " [-- -- -- ... -0.0048000000000000004 -0.010100000000000001 -0.0176]\n",
      " [-- -- -- ... -0.0091 -0.009300000000000001 -0.0176]]\n"
     ]
    }
   ],
   "source": [
    "for d in dataset.variables['sla'][:]:\n",
    "    print(d)"
   ]
  },
  {
   "cell_type": "code",
   "execution_count": 48,
   "metadata": {},
   "outputs": [],
   "source": [
    "directory = \"dataset/Copernicus_ENA_Satelite_Maps_Training_Data\"\n",
    "results = []\n",
    "\n",
    "for filename in os.listdir(directory):\n",
    "    if filename.endswith(\".nc\"):\n",
    "        file_path = os.path.join(directory, filename)\n",
    "\n",
    "        # Extract the date part from the filename and format it\n",
    "        date_str = filename.split(\"_\")[2]\n",
    "        if len(date_str) == 8:\n",
    "            #formatted_date = f\"{date_str[4:6]}-{date_str[6:8]}-{date_str[:4]}\"\n",
    "\n",
    "            # Open the .nc file\n",
    "            dataset = netCDF4.Dataset(file_path, mode=\"r\")\n",
    "\n",
    "            # Extract the 'sla' variable\n",
    "            sla = dataset.variables[\"sla\"][:]\n",
    "\n",
    "            # Calculate the average of all values stored in sla\n",
    "            #average_sla = np.mean(sla)\n",
    "\n",
    "            # Determine the value for the additional columns\n",
    "            #value = 1 if average_sla >= 0 else 0\n",
    "\n",
    "            # Append the result to the list\n",
    "            results.append([date_str, sla])\n",
    "\n",
    "            # Close the dataset\n",
    "            dataset.close()"
   ]
  },
  {
   "cell_type": "code",
   "execution_count": 49,
   "metadata": {},
   "outputs": [
    {
     "data": {
      "text/plain": [
       "numpy.ma.core.MaskedConstant"
      ]
     },
     "execution_count": 49,
     "metadata": {},
     "output_type": "execute_result"
    }
   ],
   "source": [
    "type(results[0][1][0][99][0])"
   ]
  },
  {
   "cell_type": "code",
   "execution_count": 50,
   "metadata": {},
   "outputs": [
    {
     "data": {
      "text/plain": [
       "['19930101',\n",
       " masked_array(\n",
       "   data=[[[--, --, --, ..., -0.0594, -0.062400000000000004, -0.066],\n",
       "          [--, --, --, ..., -0.051300000000000005, -0.0579, -0.0623],\n",
       "          [--, --, --, ..., -0.0506, -0.057800000000000004, -0.0625],\n",
       "          ...,\n",
       "          [--, --, --, ..., -0.007200000000000001, -0.015000000000000001,\n",
       "           -0.023100000000000002],\n",
       "          [--, --, --, ..., -0.0048000000000000004,\n",
       "           -0.010100000000000001, -0.0176],\n",
       "          [--, --, --, ..., -0.0091, -0.009300000000000001, -0.0176]]],\n",
       "   mask=[[[ True,  True,  True, ..., False, False, False],\n",
       "          [ True,  True,  True, ..., False, False, False],\n",
       "          [ True,  True,  True, ..., False, False, False],\n",
       "          ...,\n",
       "          [ True,  True,  True, ..., False, False, False],\n",
       "          [ True,  True,  True, ..., False, False, False],\n",
       "          [ True,  True,  True, ..., False, False, False]]],\n",
       "   fill_value=-2147483647)]"
      ]
     },
     "execution_count": 50,
     "metadata": {},
     "output_type": "execute_result"
    }
   ],
   "source": [
    "results[0]"
   ]
  },
  {
   "cell_type": "code",
   "execution_count": 51,
   "metadata": {},
   "outputs": [],
   "source": [
    "for day in results:\n",
    "    day[1] = day[1].filled(-10) \n",
    "           "
   ]
  },
  {
   "cell_type": "code",
   "execution_count": 52,
   "metadata": {},
   "outputs": [
    {
     "data": {
      "text/plain": [
       "16000"
      ]
     },
     "execution_count": 52,
     "metadata": {},
     "output_type": "execute_result"
    }
   ],
   "source": [
    "day = results[0]\n",
    "len(day[1].ravel())"
   ]
  },
  {
   "cell_type": "code",
   "execution_count": 57,
   "metadata": {},
   "outputs": [],
   "source": [
    "def preprocess_date(data_str):\n",
    "    try:\n",
    "        if len(data_str) != 8 or not data_str.isdigit():\n",
    "            raise ValueError(f\"Invalid date format: {data_str}\")\n",
    "        year = int(data_str[:4])\n",
    "        month = int(data_str[4:6])\n",
    "        day = int(data_str[6:8])\n",
    "        year_norm = (year - MIN_YEAR) / (MAX_YEAR - MIN_YEAR)\n",
    "        month_sin = np.sin(2 * np.pi * (month - 1) / 12)\n",
    "        month_cos = np.cos(2 * np.pi * (month - 1) / 12)\n",
    "        day_sin = np.sin(2 * np.pi * (day - 1) / 31)\n",
    "        day_cos = np.cos(2 * np.pi * (day - 1) / 31)\n",
    "        return [year_norm, month_sin, month_cos, day_sin, day_cos]\n",
    "    except ValueError as e:\n",
    "        print(e)\n",
    "        return None"
   ]
  },
  {
   "cell_type": "code",
   "execution_count": 58,
   "metadata": {},
   "outputs": [],
   "source": [
    "comb_data = []\n",
    "\n",
    "for day in results:\n",
    "    sla_flat = day[1].ravel()\n",
    "    sla_flat = sla_flat.astype(np.float32)\n",
    "    daily_data = np.column_stack((lon_flat, lat_flat, sla_flat))\n",
    "    processed_date = preprocess_date(day[0])\n",
    "    if processed_date is None:\n",
    "        continue\n",
    "    date_array = np.tile(processed_date, (daily_data.shape[0], 1))  # Repeat the processed date for each row\n",
    "    daily_data_with_date = np.hstack((date_array, daily_data))  # Add date as first columns\n",
    "    comb_data.append(daily_data_with_date)\n",
    "\n",
    "final_data = np.vstack(comb_data)\n"
   ]
  },
  {
   "cell_type": "code",
   "execution_count": 70,
   "metadata": {},
   "outputs": [
    {
     "data": {
      "text/plain": [
       "(116832000, 8)"
      ]
     },
     "execution_count": 70,
     "metadata": {},
     "output_type": "execute_result"
    }
   ],
   "source": [
    "final_data.shape"
   ]
  },
  {
   "cell_type": "code",
   "execution_count": 72,
   "metadata": {},
   "outputs": [
    {
     "data": {
      "text/plain": [
       "array([  0.   ,   0.   ,   1.   ,   0.   ,   1.   , -99.875,  25.125,\n",
       "       -10.   ])"
      ]
     },
     "execution_count": 72,
     "metadata": {},
     "output_type": "execute_result"
    }
   ],
   "source": [
    "final_data[0]"
   ]
  },
  {
   "cell_type": "code",
   "execution_count": 66,
   "metadata": {},
   "outputs": [],
   "source": [
    "sla_values = final_data[:, 7]  # Assuming dataset is a NumPy array\n",
    "masked_value = -10  # Replace this with your actual placeholder\n",
    "\n",
    "boolean_mask = sla_values != masked_value\n",
    "attention_mask = boolean_mask.astype(np.int32)"
   ]
  },
  {
   "cell_type": "code",
   "execution_count": 69,
   "metadata": {},
   "outputs": [
    {
     "data": {
      "text/plain": [
       "array([0, 0, 0, ..., 1, 1, 1])"
      ]
     },
     "execution_count": 69,
     "metadata": {},
     "output_type": "execute_result"
    }
   ],
   "source": [
    "attention_mask"
   ]
  },
  {
   "cell_type": "code",
   "execution_count": 16,
   "metadata": {},
   "outputs": [],
   "source": [
    "# Create a DataFrame from the results\n",
    "columns = [\n",
    "    \"Date\",\n",
    "    \"Average_SLA\",\n",
    "    \"Atlantic City\",\n",
    "    \"Baltimore\",\n",
    "    \"Eastport\",\n",
    "    \"Fort Pulaski\",\n",
    "    \"Lewes\",\n",
    "    \"New London\",\n",
    "    \"Newport\",\n",
    "    \"Portland\",\n",
    "    \"Sandy Hook\",\n",
    "    \"Sewells Point\",\n",
    "    \"The Battery\",\n",
    "    \"Washington\",\n",
    "]\n",
    "results_df = pd.DataFrame(results, columns=columns)"
   ]
  },
  {
   "cell_type": "code",
   "execution_count": 17,
   "metadata": {},
   "outputs": [],
   "source": [
    "results_df = results_df.drop(columns=[\"Average_SLA\"])\n"
   ]
  },
  {
   "cell_type": "code",
   "execution_count": 20,
   "metadata": {},
   "outputs": [],
   "source": [
    "output_csv_path = r\"demo_sla.csv\""
   ]
  },
  {
   "cell_type": "code",
   "execution_count": 21,
   "metadata": {},
   "outputs": [],
   "source": [
    "results_df.to_csv(output_csv_path, index=False)"
   ]
  },
  {
   "cell_type": "code",
   "execution_count": 1,
   "metadata": {},
   "outputs": [
    {
     "ename": "NameError",
     "evalue": "name 'results' is not defined",
     "output_type": "error",
     "traceback": [
      "\u001b[1;31m---------------------------------------------------------------------------\u001b[0m",
      "\u001b[1;31mNameError\u001b[0m                                 Traceback (most recent call last)",
      "Cell \u001b[1;32mIn[1], line 1\u001b[0m\n\u001b[1;32m----> 1\u001b[0m \u001b[43mresults\u001b[49m\n",
      "\u001b[1;31mNameError\u001b[0m: name 'results' is not defined"
     ]
    }
   ],
   "source": [
    "results"
   ]
  },
  {
   "cell_type": "code",
   "execution_count": 20,
   "metadata": {},
   "outputs": [
    {
     "data": {
      "application/vnd.jupyter.widget-view+json": {
       "model_id": "ee06551d69e74ff9bf0916a460f5bce6",
       "version_major": 2,
       "version_minor": 0
      },
      "text/plain": [
       "train-batch.pt:   0%|          | 0.00/90.0k [00:00<?, ?B/s]"
      ]
     },
     "metadata": {},
     "output_type": "display_data"
    },
    {
     "name": "stderr",
     "output_type": "stream",
     "text": [
      "c:\\Users\\satvi\\miniconda3\\Lib\\site-packages\\huggingface_hub\\file_download.py:140: UserWarning: `huggingface_hub` cache-system uses symlinks by default to efficiently store duplicated files but your machine does not support them in C:\\Users\\satvi\\.cache\\huggingface\\hub\\datasets--hf-internal-testing--tourism-monthly-batch. Caching files will still work but in a degraded version that might require more space on your disk. This warning can be disabled by setting the `HF_HUB_DISABLE_SYMLINKS_WARNING` environment variable. For more details, see https://huggingface.co/docs/huggingface_hub/how-to-cache#limitations.\n",
      "To support symlinks on Windows, you either need to activate Developer Mode or to run Python as an administrator. In order to activate developer mode, see this article: https://docs.microsoft.com/en-us/windows/apps/get-started/enable-your-device-for-development\n",
      "  warnings.warn(message)\n",
      "C:\\Users\\satvi\\AppData\\Local\\Temp\\ipykernel_23116\\597103068.py:8: FutureWarning: You are using `torch.load` with `weights_only=False` (the current default value), which uses the default pickle module implicitly. It is possible to construct malicious pickle data which will execute arbitrary code during unpickling (See https://github.com/pytorch/pytorch/blob/main/SECURITY.md#untrusted-models for more details). In a future release, the default value for `weights_only` will be flipped to `True`. This limits the functions that could be executed during unpickling. Arbitrary objects will no longer be allowed to be loaded via this mode unless they are explicitly allowlisted by the user via `torch.serialization.add_safe_globals`. We recommend you start setting `weights_only=True` for any use case where you don't have full control of the loaded file. Please open an issue on GitHub for any issues related to this experimental feature.\n",
      "  batch = torch.load(file)\n"
     ]
    },
    {
     "data": {
      "application/vnd.jupyter.widget-view+json": {
       "model_id": "156b3031840041d79d3cfd7a943c249f",
       "version_major": 2,
       "version_minor": 0
      },
      "text/plain": [
       "config.json:   0%|          | 0.00/1.21k [00:00<?, ?B/s]"
      ]
     },
     "metadata": {},
     "output_type": "display_data"
    },
    {
     "name": "stderr",
     "output_type": "stream",
     "text": [
      "c:\\Users\\satvi\\miniconda3\\Lib\\site-packages\\huggingface_hub\\file_download.py:140: UserWarning: `huggingface_hub` cache-system uses symlinks by default to efficiently store duplicated files but your machine does not support them in C:\\Users\\satvi\\.cache\\huggingface\\hub\\models--huggingface--time-series-transformer-tourism-monthly. Caching files will still work but in a degraded version that might require more space on your disk. This warning can be disabled by setting the `HF_HUB_DISABLE_SYMLINKS_WARNING` environment variable. For more details, see https://huggingface.co/docs/huggingface_hub/how-to-cache#limitations.\n",
      "To support symlinks on Windows, you either need to activate Developer Mode or to run Python as an administrator. In order to activate developer mode, see this article: https://docs.microsoft.com/en-us/windows/apps/get-started/enable-your-device-for-development\n",
      "  warnings.warn(message)\n"
     ]
    },
    {
     "data": {
      "application/vnd.jupyter.widget-view+json": {
       "model_id": "50f0e04bf5a548dc97dc60945f8787be",
       "version_major": 2,
       "version_minor": 0
      },
      "text/plain": [
       "pytorch_model.bin:   0%|          | 0.00/151k [00:00<?, ?B/s]"
      ]
     },
     "metadata": {},
     "output_type": "display_data"
    },
    {
     "data": {
      "application/vnd.jupyter.widget-view+json": {
       "model_id": "473a2d88d40645289dfa9d489ac70d42",
       "version_major": 2,
       "version_minor": 0
      },
      "text/plain": [
       "model.safetensors:   0%|          | 0.00/133k [00:00<?, ?B/s]"
      ]
     },
     "metadata": {},
     "output_type": "display_data"
    }
   ],
   "source": [
    "from huggingface_hub import hf_hub_download\n",
    "import torch\n",
    "from transformers import TimeSeriesTransformerModel\n",
    "\n",
    "file = hf_hub_download(\n",
    "    repo_id=\"hf-internal-testing/tourism-monthly-batch\", filename=\"train-batch.pt\", repo_type=\"dataset\"\n",
    ")\n",
    "batch = torch.load(file)\n",
    "\n",
    "model = TimeSeriesTransformerModel.from_pretrained(\"huggingface/time-series-transformer-tourism-monthly\")\n"
   ]
  }
 ],
 "metadata": {
  "kernelspec": {
   "display_name": "base",
   "language": "python",
   "name": "python3"
  },
  "language_info": {
   "codemirror_mode": {
    "name": "ipython",
    "version": 3
   },
   "file_extension": ".py",
   "mimetype": "text/x-python",
   "name": "python",
   "nbconvert_exporter": "python",
   "pygments_lexer": "ipython3",
   "version": "3.12.3"
  }
 },
 "nbformat": 4,
 "nbformat_minor": 2
}
