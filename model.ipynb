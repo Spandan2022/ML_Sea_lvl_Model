{
 "cells": [
  {
   "cell_type": "code",
   "execution_count": 39,
   "metadata": {},
   "outputs": [],
   "source": [
    "import netCDF4\n",
    "import os\n",
    "import numpy as np\n",
    "import pandas as pd\n",
    "import matplotlib.pyplot as plt\n",
    "import numpy.ma as ma\n",
    "\n",
    "import torch\n",
    "from torch.utils.data import DataLoader\n",
    "from torch.nn.utils.rnn import pad_sequence\n",
    "from torch.optim import Adam\n",
    "from torch import nn\n",
    "\n"
   ]
  },
  {
   "cell_type": "code",
   "execution_count": 40,
   "metadata": {},
   "outputs": [],
   "source": [
    "MIN_YEAR=1993\n",
    "MIN_DAY=1\n",
    "MIN_MONTH=1\n",
    "\n",
    "MAX_YEAR=2013\n",
    "MAX_DAY=31\n",
    "MAX_MONTH=12"
   ]
  },
  {
   "cell_type": "code",
   "execution_count": 41,
   "metadata": {},
   "outputs": [],
   "source": [
    "dataset = netCDF4.Dataset('dataset/Copernicus_ENA_Satelite_Maps_Training_Data/dt_ena_19930101_vDT2021.nc', mode='r')"
   ]
  },
  {
   "cell_type": "code",
   "execution_count": 42,
   "metadata": {},
   "outputs": [],
   "source": [
    "latitude = dataset.variables['latitude'][:]\n",
    "longitude = dataset.variables['longitude'][:]"
   ]
  },
  {
   "cell_type": "code",
   "execution_count": 43,
   "metadata": {},
   "outputs": [],
   "source": [
    "latitude = np.linspace(25.125, 49.875, 100)  # 100 latitude points\n",
    "longitude = np.linspace(-99.875, -60.125, 160)  # 160 longitude points"
   ]
  },
  {
   "cell_type": "code",
   "execution_count": 44,
   "metadata": {},
   "outputs": [],
   "source": [
    "lon_grid, lat_grid = np.meshgrid(longitude, latitude)  # Shape (100, 160)\n",
    "lon_flat = lon_grid.ravel()  # Flattened longitude, shape (100 * 160,)\n",
    "lat_flat = lat_grid.ravel()  # Flattened latitude, shape (100 * 160,)\n",
    "lon_flat = lon_flat.astype(np.float32)\n",
    "lat_flat = lat_flat.astype(np.float32)"
   ]
  },
  {
   "cell_type": "code",
   "execution_count": 45,
   "metadata": {},
   "outputs": [],
   "source": [
    "directory = \"dataset/Copernicus_ENA_Satelite_Maps_Training_Data\"\n",
    "results = []\n",
    "\n",
    "for filename in os.listdir(directory):\n",
    "    if filename.endswith(\".nc\"):\n",
    "        file_path = os.path.join(directory, filename)\n",
    "        date_str = filename.split(\"_\")[2]\n",
    "        if len(date_str) == 8:\n",
    "            # Open the .nc file\n",
    "            dataset = netCDF4.Dataset(file_path, mode=\"r\")\n",
    "            sla = dataset.variables[\"sla\"][:]\n",
    "            results.append([date_str, sla])\n",
    "            dataset.close()"
   ]
  },
  {
   "cell_type": "code",
   "execution_count": 46,
   "metadata": {},
   "outputs": [],
   "source": [
    "for day in results:\n",
    "    day[1] = day[1].filled(-10) \n",
    "           "
   ]
  },
  {
   "cell_type": "code",
   "execution_count": 47,
   "metadata": {},
   "outputs": [],
   "source": [
    "def preprocess_date(data_str, all_dates=[]):\n",
    "    try:\n",
    "        if len(data_str) != 8 or not data_str.isdigit():\n",
    "            raise ValueError(f\"Invalid date format: {data_str}\")\n",
    "        year = int(data_str[:4])\n",
    "        month = int(data_str[4:6])\n",
    "        day = int(data_str[6:8])\n",
    "        year_norm = (year - MIN_YEAR) / (MAX_YEAR - MIN_YEAR)\n",
    "        month_sin = np.sin(2 * np.pi * (month - 1) / 12)\n",
    "        month_cos = np.cos(2 * np.pi * (month - 1) / 12)\n",
    "        day_sin = np.sin(2 * np.pi * (day - 1) / 31)\n",
    "        day_cos = np.cos(2 * np.pi * (day - 1) / 31)\n",
    "        all_dates.append(data_str)\n",
    "        return [year_norm, month_sin, month_cos, day_sin, day_cos], all_dates\n",
    "    except ValueError as e:\n",
    "        print(e)\n",
    "        return None"
   ]
  },
  {
   "cell_type": "code",
   "execution_count": 48,
   "metadata": {},
   "outputs": [],
   "source": [
    "comb_data = []\n",
    "all_dates = []\n",
    "\n",
    "for day in results:\n",
    "    sla_flat = day[1].ravel()\n",
    "    sla_flat = sla_flat.astype(np.float32)\n",
    "    daily_data = np.column_stack((lon_flat, lat_flat, sla_flat))\n",
    "    processed_date, all_dates = preprocess_date(day[0], all_dates)\n",
    "    if processed_date is None:\n",
    "        continue\n",
    "    date_array = np.tile(processed_date, (daily_data.shape[0], 1)) \n",
    "    daily_data_with_date = np.hstack((date_array, daily_data))  \n",
    "    comb_data.append(daily_data_with_date)\n",
    "\n",
    "final_data = np.vstack(comb_data)\n"
   ]
  },
  {
   "cell_type": "code",
   "execution_count": 49,
   "metadata": {},
   "outputs": [
    {
     "data": {
      "text/plain": [
       "(116832000, 8)"
      ]
     },
     "execution_count": 49,
     "metadata": {},
     "output_type": "execute_result"
    }
   ],
   "source": [
    "final_data.shape"
   ]
  },
  {
   "cell_type": "code",
   "execution_count": 50,
   "metadata": {},
   "outputs": [
    {
     "data": {
      "text/plain": [
       "array([  0.   ,   0.   ,   1.   ,   0.   ,   1.   , -99.875,  25.125,\n",
       "       -10.   ])"
      ]
     },
     "execution_count": 50,
     "metadata": {},
     "output_type": "execute_result"
    }
   ],
   "source": [
    "final_data[0]"
   ]
  },
  {
   "cell_type": "code",
   "execution_count": 51,
   "metadata": {},
   "outputs": [],
   "source": [
    "sla_values = final_data[:, 7] \n",
    "masked_value = -10  \n",
    "\n",
    "boolean_mask = sla_values != masked_value\n",
    "attention_mask = boolean_mask.astype(np.int32)"
   ]
  },
  {
   "cell_type": "code",
   "execution_count": 52,
   "metadata": {},
   "outputs": [],
   "source": [
    "DIM = 8\n",
    "PRED_LENGTH = 365\n",
    "CONTEXT_LENGTH = 365\n",
    "TIME_FEAT = 5"
   ]
  },
  {
   "cell_type": "code",
   "execution_count": 53,
   "metadata": {},
   "outputs": [],
   "source": [
    "# load data per station\n",
    "df_AtC = pd.read_csv('dataset/Training_Anomalies_Station_Data/Atlantic_City_1993_2013_training_data.csv')\n",
    "df_Balt = pd.read_csv('dataset/Training_Anomalies_Station_Data/Baltimore_1993_2013_training_data.csv')\n",
    "df_East = pd.read_csv('dataset/Training_Anomalies_Station_Data/Eastport_1993_2013_training_data.csv')\n",
    "df_FP = pd.read_csv('dataset/Training_Anomalies_Station_Data/Fort_Pulaski_1993_2013_training_data.csv')\n",
    "df_Lewes = pd.read_csv('dataset/Training_Anomalies_Station_Data/Lewes_1993_2013_training_data.csv')\n",
    "df_NL = pd.read_csv('dataset/Training_Anomalies_Station_Data/New_London_1993_2013_training_data.csv')\n",
    "df_Newp = pd.read_csv('dataset/Training_Anomalies_Station_Data/Newport_1993_2013_training_data.csv')\n",
    "df_Port = pd.read_csv('dataset/Training_Anomalies_Station_Data/Portland_1993_2013_training_data.csv')\n",
    "df_SH = pd.read_csv('dataset/Training_Anomalies_Station_Data/Sandy_Hook_1993_2013_training_data.csv')\n",
    "df_SP = pd.read_csv('dataset/Training_Anomalies_Station_Data/Sewells_Point_1993_2013_training_data.csv')  \n",
    "df_Batt = pd.read_csv('dataset/Training_Anomalies_Station_Data/The_Battery_1993_2013_training_data.csv')\n",
    "df_Wash = pd.read_csv('dataset/Training_Anomalies_Station_Data/Washington_1993_2013_training_data.csv')\n"
   ]
  },
  {
   "cell_type": "code",
   "execution_count": 54,
   "metadata": {},
   "outputs": [
    {
     "name": "stdout",
     "output_type": "stream",
     "text": [
      "Nulls in Atlantic City: \n",
      "t            0\n",
      "anomaly      0\n",
      "location     0\n",
      "latitude     0\n",
      "longitude    0\n",
      "dtype: int64\n",
      "\n",
      "\n",
      "Nulls in Baltimore: \n",
      "t            0\n",
      "anomaly      0\n",
      "location     0\n",
      "latitude     0\n",
      "longitude    0\n",
      "dtype: int64\n",
      "\n",
      "\n",
      "Nulls in Eastport:\n",
      "t            0\n",
      "anomaly      0\n",
      "location     0\n",
      "latitude     0\n",
      "longitude    0\n",
      "dtype: int64\n",
      "\n",
      "\n",
      "Nulls in Fort Pulaski: \n",
      "t            0\n",
      "anomaly      0\n",
      "location     0\n",
      "latitude     0\n",
      "longitude    0\n",
      "dtype: int64\n",
      "\n",
      "\n",
      "Nulls in Lewes: \n",
      "t            0\n",
      "anomaly      0\n",
      "location     0\n",
      "latitude     0\n",
      "longitude    0\n",
      "dtype: int64\n",
      "\n",
      "\n",
      "Nulls in New London: \n",
      "t            0\n",
      "anomaly      0\n",
      "location     0\n",
      "latitude     0\n",
      "longitude    0\n",
      "dtype: int64\n",
      "\n",
      "\n",
      "Nulls in Newport: \n",
      "t            0\n",
      "anomaly      0\n",
      "location     0\n",
      "latitude     0\n",
      "longitude    0\n",
      "dtype: int64\n",
      "\n",
      "\n",
      "Nulls in Portland: \n",
      "t            0\n",
      "anomaly      0\n",
      "location     0\n",
      "latitude     0\n",
      "longitude    0\n",
      "dtype: int64\n",
      "\n",
      "\n",
      "Nulls in Sandy Hook: \n",
      "t            0\n",
      "anomaly      0\n",
      "location     0\n",
      "latitude     0\n",
      "longitude    0\n",
      "dtype: int64\n",
      "\n",
      "\n",
      "Nulls in Sewells Point: \n",
      "t            0\n",
      "anomaly      0\n",
      "location     0\n",
      "latitude     0\n",
      "longitude    0\n",
      "dtype: int64\n",
      "\n",
      "\n",
      "Nulls in The Battery: \n",
      "t            0\n",
      "anomaly      0\n",
      "location     0\n",
      "latitude     0\n",
      "longitude    0\n",
      "dtype: int64\n",
      "\n",
      "\n",
      "Nulls in Washington: \n",
      "t            0\n",
      "anomaly      0\n",
      "location     0\n",
      "latitude     0\n",
      "longitude    0\n",
      "dtype: int64\n"
     ]
    }
   ],
   "source": [
    "# check for nulls\n",
    "print(\"Nulls in Atlantic City: \\n\" + str(df_AtC.isnull().isnull().sum()))\n",
    "print('\\n')\n",
    "print(\"Nulls in Baltimore: \\n\" + str(df_Balt.isnull().isnull().sum()))\n",
    "print('\\n')\n",
    "print(\"Nulls in Eastport:\\n\" + str(df_East.isnull().isnull().sum()))\n",
    "print('\\n')\n",
    "print(\"Nulls in Fort Pulaski: \\n\" + str(df_FP.isnull().isnull().sum()))\n",
    "print('\\n')\n",
    "print(\"Nulls in Lewes: \\n\" + str(df_Lewes.isnull().isnull().sum()))\n",
    "print('\\n')\n",
    "print(\"Nulls in New London: \\n\" + str(df_NL.isnull().isnull().sum()))\n",
    "print('\\n')\n",
    "print(\"Nulls in Newport: \\n\" + str(df_Newp.isnull().isnull().sum()))\n",
    "print('\\n')\n",
    "print(\"Nulls in Portland: \\n\" + str(df_Port.isnull().isnull().sum()))\n",
    "print('\\n')\n",
    "print(\"Nulls in Sandy Hook: \\n\" + str(df_SH.isnull().isnull().sum()))\n",
    "print('\\n')\n",
    "print(\"Nulls in Sewells Point: \\n\" + str(df_SP.isnull().isnull().sum()))\n",
    "print('\\n')\n",
    "print(\"Nulls in The Battery: \\n\" + str(df_Batt.isnull().isnull().sum()))\n",
    "print('\\n')\n",
    "print(\"Nulls in Washington: \\n\" + str(df_Wash.isnull().isnull().sum()))"
   ]
  },
  {
   "cell_type": "code",
   "execution_count": 55,
   "metadata": {},
   "outputs": [],
   "source": [
    "# drop last 3 columns\n",
    "df_AtC = df_AtC.iloc[:, :-3]\n",
    "df_Balt = df_Balt.iloc[:, :-3]\n",
    "df_East = df_East.iloc[:, :-3]\n",
    "df_FP = df_FP.iloc[:, :-3]\n",
    "df_Lewes = df_Lewes.iloc[:, :-3]\n",
    "df_NL = df_NL.iloc[:, :-3]\n",
    "df_Newp = df_Newp.iloc[:, :-3]\n",
    "df_Port = df_Port.iloc[:, :-3]\n",
    "df_SH = df_SH.iloc[:, :-3]\n",
    "df_SP = df_SP.iloc[:, :-3]\n",
    "df_Batt = df_Batt.iloc[:, :-3]\n",
    "df_Wash = df_Wash.iloc[:, :-3]"
   ]
  },
  {
   "cell_type": "code",
   "execution_count": 59,
   "metadata": {},
   "outputs": [],
   "source": [
    "#filter out hyphens from the t column\n",
    "df_AtC['t'] = df_AtC['t'].str.replace('-', '')\n",
    "df_Balt['t'] = df_Balt['t'].str.replace('-', '')\n",
    "df_East['t'] = df_East['t'].str.replace('-', '')\n",
    "df_FP['t'] = df_FP['t'].str.replace('-', '')\n",
    "df_Lewes['t'] = df_Lewes['t'].str.replace('-', '')\n",
    "df_NL['t'] = df_NL['t'].str.replace('-', '')\n",
    "df_Newp['t'] = df_Newp['t'].str.replace('-', '')\n",
    "df_Port['t'] = df_Port['t'].str.replace('-', '')\n",
    "df_SH['t'] = df_SH['t'].str.replace('-', '')\n",
    "df_SP['t'] = df_SP['t'].str.replace('-', '')\n",
    "df_Batt['t'] = df_Batt['t'].str.replace('-', '')\n",
    "df_Wash['t'] = df_Wash['t'].str.replace('-', '')"
   ]
  },
  {
   "cell_type": "code",
   "execution_count": 65,
   "metadata": {},
   "outputs": [],
   "source": [
    "def df_to_sequences_labels(anom_data, dataset):\n",
    "    sequence_length = CONTEXT_LENGTH\n",
    "    prediction_length = PRED_LENGTH\n",
    "    total_days = len(all_dates) \n",
    "\n",
    "    # Create sequences and labels\n",
    "    sequences = []\n",
    "    labels = []\n",
    "\n",
    "    # remove rows where date in all_dates and date in anom_data are not equal and get removed dates\n",
    "    removed_dates = [date for date in all_dates if date not in anom_data['t'].values]\n",
    "    anom_data = anom_data[anom_data['t'].isin(all_dates)]\n",
    "    \n",
    "    # remove 160*100 rows if date was not found in anom_data\n",
    "    for date in removed_dates:\n",
    "        transformed_date, _ = preprocess_date(date, [])\n",
    "        dataset = dataset[~(dataset[:, :5] == transformed_date).all(axis=1)]\n",
    "\n",
    "    for i in range(total_days - sequence_length + prediction_length):\n",
    "        # Input: past 365 days\n",
    "        input_sequence = dataset[i:i + sequence_length, :]\n",
    "        sequences.append(input_sequence)\n",
    "        \n",
    "        # Target: any anomaly in the next 365 days\n",
    "        target_label = int(np.any(anom_data[i + sequence_length:i + prediction_length + sequence_length]))\n",
    "        labels.append(target_label)\n",
    "\n",
    "    sequences = np.array(sequences)  \n",
    "    labels = np.array(labels)\n",
    "\n",
    "    return sequences, labels\n"
   ]
  },
  {
   "cell_type": "code",
   "execution_count": null,
   "metadata": {},
   "outputs": [],
   "source": [
    "sequences, labels = df_to_sequences_labels(df_AtC, final_data)"
   ]
  },
  {
   "cell_type": "code",
   "execution_count": 20,
   "metadata": {},
   "outputs": [
    {
     "data": {
      "application/vnd.jupyter.widget-view+json": {
       "model_id": "ee06551d69e74ff9bf0916a460f5bce6",
       "version_major": 2,
       "version_minor": 0
      },
      "text/plain": [
       "train-batch.pt:   0%|          | 0.00/90.0k [00:00<?, ?B/s]"
      ]
     },
     "metadata": {},
     "output_type": "display_data"
    },
    {
     "name": "stderr",
     "output_type": "stream",
     "text": [
      "c:\\Users\\satvi\\miniconda3\\Lib\\site-packages\\huggingface_hub\\file_download.py:140: UserWarning: `huggingface_hub` cache-system uses symlinks by default to efficiently store duplicated files but your machine does not support them in C:\\Users\\satvi\\.cache\\huggingface\\hub\\datasets--hf-internal-testing--tourism-monthly-batch. Caching files will still work but in a degraded version that might require more space on your disk. This warning can be disabled by setting the `HF_HUB_DISABLE_SYMLINKS_WARNING` environment variable. For more details, see https://huggingface.co/docs/huggingface_hub/how-to-cache#limitations.\n",
      "To support symlinks on Windows, you either need to activate Developer Mode or to run Python as an administrator. In order to activate developer mode, see this article: https://docs.microsoft.com/en-us/windows/apps/get-started/enable-your-device-for-development\n",
      "  warnings.warn(message)\n",
      "C:\\Users\\satvi\\AppData\\Local\\Temp\\ipykernel_23116\\597103068.py:8: FutureWarning: You are using `torch.load` with `weights_only=False` (the current default value), which uses the default pickle module implicitly. It is possible to construct malicious pickle data which will execute arbitrary code during unpickling (See https://github.com/pytorch/pytorch/blob/main/SECURITY.md#untrusted-models for more details). In a future release, the default value for `weights_only` will be flipped to `True`. This limits the functions that could be executed during unpickling. Arbitrary objects will no longer be allowed to be loaded via this mode unless they are explicitly allowlisted by the user via `torch.serialization.add_safe_globals`. We recommend you start setting `weights_only=True` for any use case where you don't have full control of the loaded file. Please open an issue on GitHub for any issues related to this experimental feature.\n",
      "  batch = torch.load(file)\n"
     ]
    },
    {
     "data": {
      "application/vnd.jupyter.widget-view+json": {
       "model_id": "156b3031840041d79d3cfd7a943c249f",
       "version_major": 2,
       "version_minor": 0
      },
      "text/plain": [
       "config.json:   0%|          | 0.00/1.21k [00:00<?, ?B/s]"
      ]
     },
     "metadata": {},
     "output_type": "display_data"
    },
    {
     "name": "stderr",
     "output_type": "stream",
     "text": [
      "c:\\Users\\satvi\\miniconda3\\Lib\\site-packages\\huggingface_hub\\file_download.py:140: UserWarning: `huggingface_hub` cache-system uses symlinks by default to efficiently store duplicated files but your machine does not support them in C:\\Users\\satvi\\.cache\\huggingface\\hub\\models--huggingface--time-series-transformer-tourism-monthly. Caching files will still work but in a degraded version that might require more space on your disk. This warning can be disabled by setting the `HF_HUB_DISABLE_SYMLINKS_WARNING` environment variable. For more details, see https://huggingface.co/docs/huggingface_hub/how-to-cache#limitations.\n",
      "To support symlinks on Windows, you either need to activate Developer Mode or to run Python as an administrator. In order to activate developer mode, see this article: https://docs.microsoft.com/en-us/windows/apps/get-started/enable-your-device-for-development\n",
      "  warnings.warn(message)\n"
     ]
    },
    {
     "data": {
      "application/vnd.jupyter.widget-view+json": {
       "model_id": "50f0e04bf5a548dc97dc60945f8787be",
       "version_major": 2,
       "version_minor": 0
      },
      "text/plain": [
       "pytorch_model.bin:   0%|          | 0.00/151k [00:00<?, ?B/s]"
      ]
     },
     "metadata": {},
     "output_type": "display_data"
    },
    {
     "data": {
      "application/vnd.jupyter.widget-view+json": {
       "model_id": "473a2d88d40645289dfa9d489ac70d42",
       "version_major": 2,
       "version_minor": 0
      },
      "text/plain": [
       "model.safetensors:   0%|          | 0.00/133k [00:00<?, ?B/s]"
      ]
     },
     "metadata": {},
     "output_type": "display_data"
    }
   ],
   "source": [
    "from huggingface_hub import hf_hub_download\n",
    "from transformers import TimeSeriesTransformerModel, TimeSeriesTransformerConfig\n",
    "\n",
    "data = torch.tensor(final_data, dtype=torch.float32)\n",
    "attention_mask = torch.tensor(attention_mask, dtype=torch.int32)\n",
    "\n",
    "config = TimeSeriesTransformerConfig(\n",
    "    prediction_length=PRED_LENGTH,  # Example: predict 30 days into the future\n",
    "    input_size=DIM,  # Matches your feature dimension (8)\n",
    "    context_length=CONTEXT_LENGTH,  # Sequence length (1 year)\n",
    "    num_time_features=TIME_FEAT,  # Number of time-related features (year_norm, month_sin, etc.)\n",
    "    static_cardinalities=[]  # No static categorical features\n",
    ")\n",
    "\n",
    "model = TimeSeriesTransformerModel(config)\n",
    "\n",
    "output = model(\n",
    "    inputs_embeds=data,         \n",
    "    attention_mask=attention_mask  \n",
    ")\n"
   ]
  },
  {
   "cell_type": "code",
   "execution_count": null,
   "metadata": {},
   "outputs": [],
   "source": [
    "# Create a DataFrame from the results\n",
    "columns = [\n",
    "    \"Date\",\n",
    "    \"Average_SLA\",\n",
    "    \"Atlantic City\",\n",
    "    \"Baltimore\",\n",
    "    \"Eastport\",\n",
    "    \"Fort Pulaski\",\n",
    "    \"Lewes\",\n",
    "    \"New London\",\n",
    "    \"Newport\",\n",
    "    \"Portland\",\n",
    "    \"Sandy Hook\",\n",
    "    \"Sewells Point\",\n",
    "    \"The Battery\",\n",
    "    \"Washington\",\n",
    "]\n",
    "results_df = pd.DataFrame(results, columns=columns)"
   ]
  },
  {
   "cell_type": "code",
   "execution_count": null,
   "metadata": {},
   "outputs": [],
   "source": [
    "output_csv_path = r\"demo_sla.csv\"\n",
    "results_df.to_csv(output_csv_path, index=False)"
   ]
  }
 ],
 "metadata": {
  "kernelspec": {
   "display_name": "base",
   "language": "python",
   "name": "python3"
  },
  "language_info": {
   "codemirror_mode": {
    "name": "ipython",
    "version": 3
   },
   "file_extension": ".py",
   "mimetype": "text/x-python",
   "name": "python",
   "nbconvert_exporter": "python",
   "pygments_lexer": "ipython3",
   "version": "3.12.3"
  }
 },
 "nbformat": 4,
 "nbformat_minor": 2
}
